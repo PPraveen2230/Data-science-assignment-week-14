{
 "cells": [
  {
   "cell_type": "markdown",
   "metadata": {
    "deletable": false,
    "editable": false,
    "nbgrader": {
     "grade": false,
     "locked": true,
     "solution": false
    }
   },
   "source": [
    "# Data Visualization\n",
    "\n",
    "**_Author: Favio Vázquez_**\n",
    "\n",
    "**_Reviewer: Jessica Cervi_**\n",
    "\n",
    "**Expected time = 2 hrs**\n",
    "\n",
    "**Total points = 100 points**"
   ]
  },
  {
   "cell_type": "markdown",
   "metadata": {
    "deletable": false,
    "editable": false,
    "nbgrader": {
     "grade": false,
     "locked": true,
     "solution": false
    }
   },
   "source": [
    "## Assignment Overview\n",
    "\n",
    "In this assignment you will use matplotlib and pandas to create and customize a number of data visualizations. You will begin by creating a simple line plot and gradually build your skills to create more complex and customized visualizations. You will use pandas to create a pairs plot so you can display multiple scatter plots in one figure. Finally, you will wrap up the assignment by creating a time series visualization in matplotlib. **Please review the Important Instructions section below. You must adhere to these instructions to ensure the grading for this assignment works properly in Vocareum.** \n",
    "\n",
    "This assignment is designed to build your familiarity and comfort coding in Python while also helping you review key topics from each module. As you progress through the assignment, answers will get increasingly complex. It is important that you adopt a data scientist's mindset when completing this assignment. **Remember to run your code from each cell before submitting your assignment.** Running your code beforehand will notify you of errors and give you a chance to fix your errors before submitting. You should view your Vocareum submission as if you are delivering a final project to your manager or client. \n",
    "\n",
    "***Vocareum Tips***\n",
    "\n",
    "- Do not add arguments or options to functions unless you are specifically asked to. This will cause an error in Vocareum.\n",
    "- Do not use a library unless you are expicitly asked to in the question.\n",
    "- You can download the Grading Report after submitting the assignment. This will include feedback and hints on incorrect questions.\n",
    "\n",
    "\n",
    "### Learning Objectives\n",
    "\n",
    "- Use matplotlib to visualize data including basic plots and time series. \n",
    "- Explain the benefits and limitations of various data visualizations. \n",
    "- Examine various data visualization tools. \n",
    "- Select the appropriate data visualization to effectively communicate the dataset and analysis. "
   ]
  },
  {
   "cell_type": "markdown",
   "metadata": {
    "deletable": false,
    "editable": false,
    "nbgrader": {
     "grade": false,
     "locked": true,
     "solution": false
    }
   },
   "source": [
    "**IMPORTANT INSTRUCTIONS:** \n",
    "\n",
    "- To be able to test for this module, you will be asked to save your figures as PNG into a folder called \"results\". Please don't change the name we ask you to give to the plots so you are able to get all the points in every question. The code you will use to save the PNG files is: plt.savefig(\"results/plot.png\")\n",
    "- Don't add any customization you're not asked to in the plots."
   ]
  },
  {
   "cell_type": "markdown",
   "metadata": {
    "deletable": false,
    "editable": false,
    "nbgrader": {
     "grade": false,
     "locked": true,
     "solution": false
    }
   },
   "source": [
    "## Index:\n",
    "\n",
    "#### Data Visualization\n",
    "\n",
    "- [Question 1](#Question-1)\n",
    "- [Question 2](#Question-2)\n",
    "- [Question 3](#Question-3)\n",
    "- [Question 4](#Question-4)\n",
    "- [Question 5](#Question-5)\n",
    "- [Question 6](#Question-6)\n",
    "- [Question 7](#Question-7)\n",
    "- [Question 8](#Question-8)\n",
    "- [Question 9](#Question-9)\n",
    "- [Question 10](#Question-10)"
   ]
  },
  {
   "cell_type": "code",
   "execution_count": null,
   "metadata": {
    "collapsed": true,
    "deletable": false,
    "editable": false,
    "nbgrader": {
     "grade": false,
     "locked": true,
     "solution": false
    }
   },
   "outputs": [],
   "source": [
    "# Let's start by importing the libraries we will be using\n",
    "import pandas as pd\n",
    "import numpy as np\n",
    "import matplotlib.pyplot as plt\n",
    "from dateutil.parser import parse\n",
    "from sklearn import datasets\n",
    "from pandas.plotting import scatter_matrix\n",
    "import scipy.stats as sp\n",
    "import math\n",
    "\n",
    "# Avoid warnings\n",
    "import warnings\n",
    "warnings.filterwarnings(\"ignore\")"
   ]
  },
  {
   "cell_type": "markdown",
   "metadata": {
    "deletable": false,
    "editable": false,
    "nbgrader": {
     "grade": false,
     "locked": true,
     "solution": false
    }
   },
   "source": [
    "## Data Visualization\n",
    "\n",
    "You will start by creating some basic plots with matplotlib. In particular, we will begin by creting simple line plots and by adding some customization such as adding labels to the `Xaxis` and `Yaxis` of your figures. "
   ]
  },
  {
   "cell_type": "markdown",
   "metadata": {
    "deletable": false,
    "editable": false,
    "nbgrader": {
     "grade": false,
     "locked": true,
     "solution": false
    }
   },
   "source": [
    "[Back to top](#Index:) \n",
    "\n",
    "### Question 1\n",
    "*5 points*\n",
    "\n",
    "Use the command `plot()` to create a basic lineplot with the data `x = [1,2,3,4]` and `y = [1,2,3,4]`. Add a y-label with the words \"numbers y\" and add an x-label with the words \"numbers x\".\n",
    "\n",
    "Use the `pyplot` function `savefig` to save your plot as a png file with the name \"plot1.png\" in the folder \"results\"."
   ]
  },
  {
   "cell_type": "code",
   "execution_count": null,
   "metadata": {
    "collapsed": true
   },
   "outputs": [],
   "source": [
    "### GRADED \n",
    "\n",
    "# Data\n",
    "x = [1,2,3,4]\n",
    "y = [1,2,3,4]\n",
    "\n",
    "### YOUR SOLUTION HERE\n",
    "\n",
    "fig, ax = plt.subplots()\n",
    "\n",
    "plt.scatter(x, y)\n",
    "ax.plot(x, y, label='line & Scatter plot')\n",
    "\n",
    "\n",
    "\n",
    "plt.xlabel('numbers X')\n",
    "plt.ylabel('numbers Y')\n",
    "ax.legend()\n",
    "\n",
    "plt.savefig(\"results/plot1.png\")\n",
    "plt.show()\n",
    "###\n",
    "### YOUR CODE HERE\n",
    "###\n"
   ]
  },
  {
   "cell_type": "code",
   "execution_count": null,
   "metadata": {
    "collapsed": true,
    "deletable": false,
    "editable": false,
    "nbgrader": {
     "grade": true,
     "grade_id": "Question 01",
     "locked": true,
     "points": "5",
     "solution": false
    }
   },
   "outputs": [],
   "source": [
    "###\n",
    "### AUTOGRADER TEST - DO NOT REMOVE\n",
    "###\n"
   ]
  },
  {
   "cell_type": "markdown",
   "metadata": {
    "deletable": false,
    "editable": false,
    "nbgrader": {
     "grade": false,
     "locked": true,
     "solution": false
    }
   },
   "source": [
    "[Back to top](#Index:) \n",
    "\n",
    "### Question 2\n",
    "*10 points*\n",
    "\n",
    "It is also possible to plot different lines on the same graphs.\n",
    "    \n",
    "In the code cell below we have defined a vector `t`. Plot, on the same graph,`t` and `t`, `t` and `t^2`, and `t` and`t^4`.\n",
    "\n",
    "Set the styleline for the first line to `ro`, the styleline for the second line to `bs`, and the third one to `g^`.\n",
    "Make sure to set the limits for the x axis equal to [0, 6], and the limits for the y axis equal to [0, 150].\n",
    "\n",
    "Save your plot as a png with the name \"plot2.png\" in the folder \"results\".\n",
    "\n",
    "**HINT:** Your result should look like the image below:\n",
    "\n",
    "![](assets/1.png)"
   ]
  },
  {
   "cell_type": "code",
   "execution_count": null,
   "metadata": {
    "collapsed": true
   },
   "outputs": [],
   "source": [
    "### GRADED \n",
    "\n",
    "# Data\n",
    "t = np.arange(0., 5., 0.2)\n",
    "square = t ** 2\n",
    "quad = t ** 4\n",
    "\n",
    "plt.plot(t, square, quad)\n",
    "\n",
    "plt.plot(t, t, 'ro', label='t')\n",
    "plt.plot(t, square, 'bs', label='t^2')\n",
    "plt.plot(t, quad, 'g^', label='t^4')\n",
    "\n",
    "# Set axis limits\n",
    "plt.xlim(0, 5)\n",
    "plt.ylim(0, 150)\n",
    "\n",
    "\n",
    "# Add a legend to the plot\n",
    "plt.legend()\n",
    "\n",
    "plt.savefig(\"results/plot2.png\")\n",
    "plt.show()\n",
    "###\n",
    "### YOUR CODE HERE\n",
    "###\n"
   ]
  },
  {
   "cell_type": "code",
   "execution_count": null,
   "metadata": {
    "collapsed": true,
    "deletable": false,
    "editable": false,
    "nbgrader": {
     "grade": true,
     "grade_id": "Question 02",
     "locked": true,
     "points": "10",
     "solution": false
    }
   },
   "outputs": [],
   "source": [
    "###\n",
    "### AUTOGRADER TEST - DO NOT REMOVE\n",
    "###\n"
   ]
  },
  {
   "cell_type": "markdown",
   "metadata": {
    "deletable": false,
    "editable": false,
    "nbgrader": {
     "grade": false,
     "locked": true,
     "solution": false
    }
   },
   "source": [
    "## Simple line plots\n",
    "\n",
    "Next, you will create a simple line plot. Because line plots are meant to plot a single function $x = f(x)$, as you may remember: \n",
    "- X-axis requires a quantitative variable\n",
    "- Y-axis values must be numbers and can be set to be interpreted (formatted) as decimal, percent, or currency.\n",
    "- Variables have contiguous values\n",
    "- Familiar/conventional ordering among ordinals"
   ]
  },
  {
   "cell_type": "markdown",
   "metadata": {
    "deletable": false,
    "editable": false,
    "nbgrader": {
     "grade": false,
     "locked": true,
     "solution": false
    }
   },
   "source": [
    "[Back to top](#Index:) \n",
    "\n",
    "### Question 3\n",
    "*10 points*\n",
    "    \n",
    "In the code cell below, we have defined an `x` array with values from $0$ to $2\\pi$.\n",
    "\n",
    "Set `y_sin` equal to $\\sin(x)$ and `y_cos` equal to $3\\cos(x)$.\n",
    "On the same figure, plot `x` with `y_sin` and `x` with `y_cos` as a line plot. \n",
    "Customize the plot with the following settings:\n",
    "\n",
    "- Title: \"Function plots\". **Hint: Notice the capitalization**.\n",
    "- y-label = \"values\"\n",
    "- x-label = \"angles\"\n",
    "\n",
    "\n",
    "Save your plot as a png file with the name \"plot3.png\" in the folder \"results\".\n",
    "\n",
    "**HINT:** Use the `NumPy` function `sin` and `cos` to define your dependent variables."
   ]
  },
  {
   "cell_type": "code",
   "execution_count": 50,
   "metadata": {},
   "outputs": [
    {
     "data": {
      "image/png": "[encoded data removed]",
      "text/plain": [
       "<Figure size 432x288 with 1 Axes>"
      ]
     },
     "metadata": {
      "needs_background": "light"
     },
     "output_type": "display_data"
    }
   ],
   "source": [
    "### GRADED \n",
    "import numpy as np\n",
    "import math\n",
    "# the x axis: ndarray object of angles between 0 and 2π\n",
    "x = np.arange(0, math.pi*2, 0.05)\n",
    "\n",
    "### YOUR SOLUTION HERE\n",
    "y_sin = np.sin(x)\n",
    "y_cos = 3 * np.cos(x)\n",
    "\n",
    "plt.plot(x, y_sin , label='sin(x)')\n",
    "\n",
    "plt.plot(x, y_cos, 'ro', label='3 cos (x)')\n",
    "\n",
    "plt.title(\"Function plots\")\n",
    "plt.xlabel('angles')\n",
    "plt.ylabel('values')\n",
    "# Add a legend to the plot\n",
    "plt.legend()\n",
    "plt.savefig(\"results/plot2.png\")\n",
    "###\n",
    "### YOUR CODE HERE\n",
    "###\n",
    "plt.show()"
   ]
  },
  {
   "cell_type": "code",
   "execution_count": null,
   "metadata": {
    "collapsed": true,
    "deletable": false,
    "editable": false,
    "nbgrader": {
     "grade": true,
     "grade_id": "Question 03",
     "locked": true,
     "points": "10",
     "solution": false
    }
   },
   "outputs": [],
   "source": [
    "###\n",
    "### AUTOGRADER TEST - DO NOT REMOVE\n",
    "###\n"
   ]
  },
  {
   "cell_type": "markdown",
   "metadata": {
    "deletable": false,
    "editable": false,
    "nbgrader": {
     "grade": false,
     "locked": true,
     "solution": false
    }
   },
   "source": [
    "## Bar plots\n",
    "\n",
    "\n",
    "A bar chart or bar graph is a chart or graph that presents categorical data with rectangular bars with heights or lengths proportional to the values that they represent. The bars can be plotted vertically or horizontally.\n",
    "\n",
    "A bar graph shows comparisons among discrete categories. One axis of the chart shows the specific categories being compared, and the other axis represents a measured value.\n",
    "\n",
    "For example, we can use bar graphs to compare data between different groups or to track changes over time (similar to a line chart). Multi-series bar graphs can display multiple groups in the same bar in a stacked visual showing the composition of the bar chart along the Y-axis.\n",
    "\n",
    "Matplotlib provides the **bar()** function for creating bar plots. \n",
    "\n",
    "You can use the **bar()** function parameters below with the axes object:\n",
    "\n",
    "``bar(x, height, width, bottom, align)``\n",
    "\n",
    "\n",
    "Observe the example below, we have defined the lists `students` and `langs`. We can use a bar plot to visualize which programming languages are more or less popular."
   ]
  },
  {
   "cell_type": "code",
   "execution_count": 51,
   "metadata": {},
   "outputs": [
    {
     "data": {
      "image/png": "[encoded data removed]",
      "text/plain": [
       "<Figure size 432x288 with 1 Axes>"
      ]
     },
     "metadata": {
      "needs_background": "light"
     },
     "output_type": "display_data"
    }
   ],
   "source": [
    "langs = ['C', 'C++', 'Java', 'Python', 'PHP']\n",
    "students = [23,17,35,29,12]\n",
    "plt.bar(langs,students)\n",
    "plt.show()"
   ]
  },
  {
   "cell_type": "markdown",
   "metadata": {
    "deletable": false,
    "editable": false,
    "nbgrader": {
     "grade": false,
     "locked": true,
     "solution": false
    }
   },
   "source": [
    "[Back to top](#Index:) \n",
    "\n",
    "### Question 4\n",
    "*5 points*\n",
    "\n",
    "Follow the example above to create a bar plot using the data `y_pos` and `stu` defined for you in the code cell below.\n",
    "Inside the bar function, set the argument `color` equal to `(0.2, 0.4, 0.6, 0.6)`.\n",
    "\n",
    "Make these additional customizations to the plot:\n",
    "Set the title equal to \"Student background\"\n",
    "Set the argument of the function plt.xticks equal to (y_pos, bars).\n",
    "\n",
    "Save your plot as a png file with the name \"plot4.png\" in the folder \"results\".\n",
    "\n",
    "**HINT:** Your result should look like the image below:\n",
    "\n",
    "![](assets/bar.png)"
   ]
  },
  {
   "cell_type": "code",
   "execution_count": 52,
   "metadata": {},
   "outputs": [
    {
     "data": {
      "image/png": "[encoded data removed]",
      "text/plain": [
       "<Figure size 432x288 with 1 Axes>"
      ]
     },
     "metadata": {
      "needs_background": "light"
     },
     "output_type": "display_data"
    }
   ],
   "source": [
    "### GRADED \n",
    "\n",
    "# Data\n",
    "bars = ('Europe', 'Asia', 'North America', 'Australia', 'Africa')\n",
    "y_pos = np.arange(len(bars))\n",
    "stu = [16, 21, 50, 1, 1]\n",
    "color = (0.2, 0.4, 0.6, 0.6)\n",
    "\n",
    "\n",
    "plt.bar(y_pos,stu, color=color)\n",
    "\n",
    "plt.title(\"Student background\")\n",
    "plt.xticks(y_pos, bars)\n",
    "plt.savefig(\"results/plot4.png\")\n",
    "plt.show()\n",
    "\n",
    "### YOUR SOLUTION HERE\n",
    "\n",
    "###\n",
    "### YOUR CODE HERE\n",
    "###\n"
   ]
  },
  {
   "cell_type": "code",
   "execution_count": null,
   "metadata": {
    "collapsed": true,
    "deletable": false,
    "editable": false,
    "nbgrader": {
     "grade": true,
     "grade_id": "Question 04",
     "locked": true,
     "points": "5",
     "solution": false
    }
   },
   "outputs": [],
   "source": [
    "###\n",
    "### AUTOGRADER TEST - DO NOT REMOVE\n",
    "###\n"
   ]
  },
  {
   "cell_type": "markdown",
   "metadata": {},
   "source": [
    "[Back to top](#Index:) \n",
    "\n",
    "### Question 5\n",
    "*20 points*\n",
    "\n",
    "In the code cell below, we have defined for you the necessary data to construct this plot.\n",
    "\n",
    "Given the data `r1` and `bars1` create a first bar plot by making sure you set the following parameters: `width=bar_width`, `color='blue'`, `edgecolor='black'`, `yerr=yer1`, `capsize=7`, `label='Female'`.\n",
    "\n",
    "Next, on the same graph, given the data below `r2` and `bars2` create a second bar plot by making sure you set the following parameters: `width=bar_width`, `color='cyan'`, `edgecolor='black'`, `yerr=yer2`, `capsize=7`,`label='Male'`.\n",
    "\n",
    "Finally, use the appropriate `matplotlib` functions to add the following elements to the plot:\n",
    "- Title: \"Advanced bar plot\"\n",
    "- Y-label = \"height\"\n",
    "- Legend = Show a standard label with the name of the bars. **Hint: Use the function `plt.legend()` to show the legend.**\n",
    "\n",
    "Save your plot as a png file with the name \"plot5.png\" in the folder \"results\".\n",
    "\n",
    "The final plot should look like this:\n",
    "\n",
    "![](assets/2.png)"
   ]
  },
  {
   "cell_type": "code",
   "execution_count": 59,
   "metadata": {
    "nbgrader": {
     "grade": false,
     "grade_id": "Question 05",
     "locked": false,
     "points": "20",
     "solution": false
    }
   },
   "outputs": [
    {
     "data": {
      "image/png": "[encoded data removed]",
      "text/plain": [
       "<Figure size 432x288 with 1 Axes>"
      ]
     },
     "metadata": {
      "needs_background": "light"
     },
     "output_type": "display_data"
    }
   ],
   "source": [
    "### GRADED \n",
    "\n",
    "# Data\n",
    "\n",
    "# width of the bars\n",
    "bar_width = 0.3\n",
    " \n",
    "# Choose the height of the blue bars\n",
    "bars1 = [10, 9, 2]\n",
    " \n",
    "# Choose the height of the cyan bars\n",
    "bars2 = [10.8, 9.5, 4.5]\n",
    " \n",
    "# Choose the height of the error bars (bars1)\n",
    "yer1 = [0.5, 0.4, 0.5]\n",
    " \n",
    "# Choose the height of the error bars (bars2)\n",
    "yer2 = [1, 0.7, 1]\n",
    "\n",
    "# The x position of bars\n",
    "r1 = np.arange(len(bars1))\n",
    "r2 = [x + bar_width for x in r1]\n",
    "\n",
    "# general layout\n",
    "plt.bar(r2, r1, color='blue')\n",
    "plt.bar(r1, r2, color='green')\n",
    "plt.xticks([r + bar_width for r in range(len(bars1))], ['Kids', 'Adults', 'Older people'])\n",
    "\n",
    "plt.show()\n",
    "### YOUR SOLUTION HERE\n",
    "\n",
    "###\n",
    "### YOUR CODE HERE\n",
    "###\n"
   ]
  },
  {
   "cell_type": "code",
   "execution_count": 39,
   "metadata": {
    "collapsed": true,
    "deletable": false,
    "editable": false,
    "nbgrader": {
     "grade": true,
     "grade_id": "Question 05",
     "locked": true,
     "points": "20",
     "solution": false
    }
   },
   "outputs": [],
   "source": [
    "###\n",
    "### AUTOGRADER TEST - DO NOT REMOVE\n",
    "###\n"
   ]
  },
  {
   "cell_type": "markdown",
   "metadata": {
    "deletable": false,
    "editable": false,
    "nbgrader": {
     "grade": false,
     "locked": true,
     "solution": false
    }
   },
   "source": [
    "## Histograms\n",
    "A histogram is a display of statistical information that uses rectangles to show the frequency of data items in successive numerical intervals of equal size. \n",
    "\n",
    "Arguably, histograms and bar charts look somewhat familiar. However, it is important that these two are not confused. Histograms are used to show distributions of variables while bar charts are used to compare variables. Histograms plot quantitative data with ranges of the data grouped into bins or intervals while bar charts plot categorical data.\n",
    "\n",
    "Matplotlib provides the **pyplot.hist()** function for creating histograms plots. \n",
    "\n",
    "\n",
    "Observe the example below:\n",
    "\n",
    "![](assets/hist.png)\n",
    "\n",
    "Notice that the horizontal axis of Figure 1 consists of binned times: the first bin includes visits from 0 up to and including ten minutes, the second bin from 10 up to and including 20 minutes, and so on. The vertical axis shows percentages. The area of each bar gives the percentage of all visitors who spent the amount of time shown in the corresponding bin. The sum of all areas equals 100%."
   ]
  },
  {
   "cell_type": "markdown",
   "metadata": {
    "deletable": false,
    "editable": false,
    "nbgrader": {
     "grade": false,
     "locked": true,
     "solution": false
    }
   },
   "source": [
    "[Back to top](#Index:) \n",
    "\n",
    "### Question 6\n",
    "*10 points*\n",
    "\n",
    "In the code cell below, we have set the values of `N_points` and `n_bins` for you, as well as a random seed generator for reproducibility.\n",
    "\n",
    "Generate the data `x` for a normal distribution by passing the argument `N_points` to the `NumPy` function `random.randn`.\n",
    "\n",
    "Use the appropriate `matplotlib` function to generate a histogram for `x`. Set the parameter `bins = n_bins`.\n",
    "\n",
    "Save your plot as a png file with the name \"plot6.png\" in the folder \"results\".\n",
    "\n",
    "**HINT:** Generate `x` by using the command `np.random.randn(N_points)`"
   ]
  },
  {
   "cell_type": "code",
   "execution_count": 40,
   "metadata": {
    "collapsed": true
   },
   "outputs": [],
   "source": [
    "### GRADED \n",
    "\n",
    "\n",
    "N_points = 100000\n",
    "n_bins = 20\n",
    "np.random.seed(123)\n",
    "\n",
    "### YOUR SOLUTION HERE\n",
    "x = None\n",
    "\n",
    "###\n",
    "### YOUR CODE HERE\n",
    "###\n"
   ]
  },
  {
   "cell_type": "code",
   "execution_count": 41,
   "metadata": {
    "collapsed": true,
    "deletable": false,
    "editable": false,
    "nbgrader": {
     "grade": true,
     "grade_id": "Question 06",
     "locked": true,
     "points": "10",
     "solution": false
    }
   },
   "outputs": [],
   "source": [
    "###\n",
    "### AUTOGRADER TEST - DO NOT REMOVE\n",
    "###\n"
   ]
  },
  {
   "cell_type": "markdown",
   "metadata": {
    "deletable": false,
    "editable": false,
    "nbgrader": {
     "grade": false,
     "locked": true,
     "solution": false
    }
   },
   "source": [
    "[Back to top](#Index:) \n",
    "\n",
    "### Question 7\n",
    "*15 points*\n",
    "\n",
    "\n",
    "In the code cell below, we have defined all the necessery data to reproduce the following plot.\n",
    "\n",
    "\n",
    "Create a histogram using the data `x` and the number of bins given `num_bins`. Additionally, set the arguments `density=1`, `facecolor=red`, and `alpha=0.6`.\n",
    "\n",
    "The pseudocde for this part is given below:\n",
    "\n",
    "```Python\n",
    "#complete the arguments inside hist() as directed\n",
    "n, bins, patches = plt.hist(   )\n",
    "\n",
    "```\n",
    "\n",
    "Next, use the `scipy` function `.norm.pdf()` to create a fitted line to the histogram by choosing the parameters `bins` (computed above) and the parameters `mu` and `sigma` we have defined for you. Make this equal to a new variable `y`.\n",
    "\n",
    "Finally, use the function `plt.plot()` to plot the fitted line of `bins` and `y`. This fit line should be a blue dotted line with using `'b--'`.\n",
    "\n",
    "\n",
    "Set these customizations to your plot:\n",
    "\n",
    "- Title = \"Histogram with fitted line\"\n",
    "- X-label = 'x-axis'\n",
    "- Y-label = 'y-axis'\n",
    " \n",
    "Save your plot as a png with the name \"plot7.png\" in the folder \"results\".\n",
    "\n",
    "The final plot should look like this:\n",
    "\n",
    "![](assets/4.png)\n"
   ]
  },
  {
   "cell_type": "code",
   "execution_count": 42,
   "metadata": {
    "collapsed": true
   },
   "outputs": [],
   "source": [
    "### GRADED\n",
    "\n",
    "# Data\n",
    "np.random.seed(123)\n",
    "mu = 120 # mean of distribution\n",
    "sigma = 12 # standard deviation of distribution\n",
    "x = mu + sigma * np.random.randn(10000)\n",
    "num_bins = 20\n",
    "\n",
    "### YOUR SOLUTION HERE\n",
    "\n",
    "###\n",
    "### YOUR CODE HERE\n",
    "###\n"
   ]
  },
  {
   "cell_type": "code",
   "execution_count": 43,
   "metadata": {
    "collapsed": true,
    "deletable": false,
    "editable": false,
    "nbgrader": {
     "grade": true,
     "grade_id": "Question 07",
     "locked": true,
     "points": "15",
     "solution": false
    }
   },
   "outputs": [],
   "source": [
    "###\n",
    "### AUTOGRADER TEST - DO NOT REMOVE\n",
    "###\n"
   ]
  },
  {
   "cell_type": "markdown",
   "metadata": {
    "deletable": false,
    "editable": false,
    "nbgrader": {
     "grade": false,
     "locked": true,
     "solution": false
    }
   },
   "source": [
    "## Box plots\n",
    "\n",
    "A box plot is a plot that displays a summary of a set of data containing the minimum, first quartile, median, third quartile, and maximum of the data. In a box plot, we draw a box from the first quartile to the third quartile. A vertical line goes through the box at the median. The whiskers go from each quartile to the minimum or maximum.\n",
    "\n",
    "Usually, box plot are used to display different distributions of quantitative values in a field.\n",
    "\n",
    "We will use the `boxplot()` function to create a boxplot with Matplotlib. Parameters in the `boxplot()` function determine orientation, colors, labels for the figure. "
   ]
  },
  {
   "cell_type": "markdown",
   "metadata": {
    "deletable": false,
    "editable": false,
    "nbgrader": {
     "grade": false,
     "locked": true,
     "solution": false
    }
   },
   "source": [
    "[Back to top](#Index:) \n",
    "\n",
    "### Question 8\n",
    "*10 points*\n",
    "\n",
    "Using the data defined for you in the code cell below, create a box plot for `x` by using the appropriate `matplotlib` function. Add outliers to your plot by setting the parameter `flierprops` equal to `green_diamond`.\n",
    "\n",
    "Make these customizations to your final plot:\n",
    "\n",
    "- Title: \"My box plot\"\n",
    "- X-label: \"My data\"\n",
    "\n",
    "\n",
    "Save your plot as a png with the name \"plot8.png\" in the folder \"results\"."
   ]
  },
  {
   "cell_type": "code",
   "execution_count": 44,
   "metadata": {
    "collapsed": true
   },
   "outputs": [],
   "source": [
    "### GRADED\n",
    "\n",
    "# Data\n",
    "np.random.seed(123)\n",
    "spread = np.random.rand(50) * 100\n",
    "center = np.ones(25) * 50\n",
    "flier_high = np.random.rand(10) * 100 + 100\n",
    "flier_low = np.random.rand(10) * -100\n",
    "x = np.concatenate((spread, center, flier_high, flier_low))\n",
    "\n",
    "# For outliers\n",
    "green_diamond = dict(markerfacecolor='g', marker='D')\n",
    "\n",
    "### YOUR SOLUTION HERE\n",
    "\n",
    "###\n",
    "### YOUR CODE HERE\n",
    "###\n"
   ]
  },
  {
   "cell_type": "code",
   "execution_count": 45,
   "metadata": {
    "collapsed": true,
    "deletable": false,
    "editable": false,
    "nbgrader": {
     "grade": true,
     "grade_id": "Question 08",
     "locked": true,
     "points": "10",
     "solution": false
    }
   },
   "outputs": [],
   "source": [
    "###\n",
    "### AUTOGRADER TEST - DO NOT REMOVE\n",
    "###\n"
   ]
  },
  {
   "cell_type": "markdown",
   "metadata": {
    "deletable": false,
    "editable": false,
    "nbgrader": {
     "grade": false,
     "locked": true,
     "solution": false
    }
   },
   "source": [
    "## Pair plots\n",
    "\n",
    "A “pairs plot” is also known as a scatter matrix. A scatter matrix is a collection of scatterplots organized into a grid (or matrix). Each scatterplot shows the relationship between a pair of variables. Plots are just elaborations on this, showing all variables paired with all the other variables. \n",
    "\n",
    "Scatter plot are often use to visualize the relationship between different variables.\n",
    "\n",
    "Here, you will create a pairs plot using pandas. "
   ]
  },
  {
   "cell_type": "markdown",
   "metadata": {
    "deletable": false,
    "editable": false,
    "nbgrader": {
     "grade": false,
     "locked": true,
     "solution": false
    }
   },
   "source": [
    "[Back to top](#Index:) \n",
    "\n",
    "### Question 9\n",
    "*10 points*\n",
    "\n",
    "For this question, we will use the famous Iris dataset. \n",
    "The Iris flower data set  is a multivariate data set introduced by the British statistician and biologist Ronald Fisher in his 1936 paper.\n",
    "The data set consists of 50 samples from each of three species of Iris (Iris setosa, Iris virginica and Iris versicolor). Four features were measured from each sample. Based on the combination of these four features, Fisher developed a linear discriminant model to distinguish the species from each other.\n",
    "\n",
    "\n",
    "In the code cell below, we have defined for you a dataframe `iris_dataframe` by loading the `iris` dataset from the library `sklearn`, as well as some object `X` and `y`.\n",
    "\n",
    "Create a pair plot of `iris_dataframe` using the pandas function `scatter_matrix`. Use these customizations inside the `scatter_matrix` function:\n",
    "\n",
    "```\n",
    "c = Y\n",
    "figsize = (15,15)\n",
    "marker = 'o'\n",
    "hist_kwds={'bins':20}\n",
    "s = 60\n",
    "alpha = 0.8\n",
    "```\n",
    "\n",
    "Save your plot as a png with the name \"plot9.png\" in the folder \"results\"."
   ]
  },
  {
   "cell_type": "code",
   "execution_count": 46,
   "metadata": {
    "collapsed": true
   },
   "outputs": [],
   "source": [
    "### GRADED\n",
    "\n",
    "# Data\n",
    "iris_data = datasets.load_iris()\n",
    "X = iris_data.data\n",
    "Y = iris_data.target\n",
    "\n",
    "iris_dataframe = pd.DataFrame(X, columns=iris_data.feature_names)\n",
    "\n",
    "### YOUR SOLUTION HERE\n",
    "\n",
    "###\n",
    "### YOUR CODE HERE\n",
    "###\n"
   ]
  },
  {
   "cell_type": "code",
   "execution_count": 47,
   "metadata": {
    "collapsed": true,
    "deletable": false,
    "editable": false,
    "nbgrader": {
     "grade": true,
     "grade_id": "Question 09",
     "locked": true,
     "points": "10",
     "solution": false
    }
   },
   "outputs": [],
   "source": [
    "###\n",
    "### AUTOGRADER TEST - DO NOT REMOVE\n",
    "###\n"
   ]
  },
  {
   "cell_type": "markdown",
   "metadata": {
    "deletable": false,
    "editable": false,
    "nbgrader": {
     "grade": false,
     "locked": true,
     "solution": false
    }
   },
   "source": [
    "## Time series\n",
    "A Time Series plot in matplotlib is, in essence, a special case of a line plot where now the `x` coordinates represent ``time``.\n",
    "\n",
    "As line plots, time series plots are generated using the `plot()` function."
   ]
  },
  {
   "cell_type": "markdown",
   "metadata": {
    "deletable": false,
    "editable": false,
    "nbgrader": {
     "grade": false,
     "locked": true,
     "solution": false
    }
   },
   "source": [
    "[Back to top](#Index:) \n",
    "\n",
    "### Question 10\n",
    "*5 points*\n",
    "\n",
    "In the code cell below, we have defined a dataframe `df` and made some modifications to it for your convenience.  We have also defined a time series `tf` from our dataframe to describe the average number of passenger on flights for a certain airline..\n",
    "\n",
    "\n",
    "Create a time series plot from the data `ts`  below. Set the title of the plot to 'My time series'. \n",
    "\n",
    "Save your plot as a png with the name \"plot10.png\" in the folder \"results\"."
   ]
  },
  {
   "cell_type": "code",
   "execution_count": 48,
   "metadata": {
    "collapsed": true
   },
   "outputs": [],
   "source": [
    "### GRADED\n",
    "\n",
    "# Data\n",
    "df = pd.read_csv('https://github.com/selva86/datasets/raw/master/AirPassengers.csv')\n",
    "dates = pd.DatetimeIndex([parse(d).strftime('%Y-%m-01') for d in df['date']])\n",
    "df.set_index(dates, inplace=True)\n",
    "\n",
    "# convert the dataframe into a Series, there is only one column\n",
    "ts = df['value']\n",
    "\n",
    "\n",
    "### YOUR SOLUTION HERE\n",
    "\n",
    "\n",
    "###\n",
    "### YOUR CODE HERE\n",
    "###\n"
   ]
  },
  {
   "cell_type": "code",
   "execution_count": 49,
   "metadata": {
    "collapsed": true,
    "deletable": false,
    "editable": false,
    "nbgrader": {
     "grade": true,
     "grade_id": "Question 10",
     "locked": true,
     "points": "5",
     "solution": false
    }
   },
   "outputs": [],
   "source": [
    "###\n",
    "### AUTOGRADER TEST - DO NOT REMOVE\n",
    "###\n"
   ]
  }
 ],
 "metadata": {
  "kernelspec": {
   "display_name": "Python 3 [3.7]",
   "language": "python",
   "name": "python3"
  },
  "language_info": {
   "codemirror_mode": {
    "name": "ipython",
    "version": 3
   },
   "file_extension": ".py",
   "mimetype": "text/x-python",
   "name": "python",
   "nbconvert_exporter": "python",
   "pygments_lexer": "ipython3",
   "version": "3.7.5"
  }
 },
 "nbformat": 4,
 "nbformat_minor": 4
}
